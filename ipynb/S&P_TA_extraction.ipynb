{
 "cells": [
  {
   "cell_type": "code",
   "execution_count": null,
   "metadata": {},
   "outputs": [],
   "source": [
    "import warnings\n",
    "warnings.simplefilter(\"ignore\")"
   ]
  },
  {
   "cell_type": "markdown",
   "metadata": {},
   "source": [
    "### open questions\n",
    "\n",
    "1. Evaluation\n",
    "    - Can we just accept data leakage? Is it acceptable to only be able to predict tomorrow’s closing in practice? They do in the paper it seems.\n",
    "2. Target\n",
    "    - Is close price a good target or should we try to predict trading signal (whatever the fuck that is)?\n",
    "3. Technicals\n",
    "    - There doesn’t seem to be much of a rhyme or reason to the technicals they chose. I’ll try to adapt the ones we have to match the paper as well as possible.\n",
    "\n",
    "\n",
    "## Technicals\n",
    "------\n",
    "\n",
    "**Approach:** Sift through technical functions in `ta.py` file, research sensible parameters for each function. Sometimes it seems like multiple runs should be extracted with each function with different parameters, which is denoted by a list of values. \n",
    "\n",
    "### Good to go\n",
    "\n",
    "- 'MA'\n",
    "    - n: [5, 20, 90, 260]\n",
    "- 'STDDEV'\n",
    "    - n: [5, 20, 90, 260]\n",
    "- 'RSI'\n",
    "    - n: [6, 12]\n",
    "- MACD'\n",
    "    - n_fast: 12\n",
    "    - n_slow: 26\n",
    "\n",
    "- 'BBANDS'\n",
    "    - n: [5, 20, 90, 260]\n",
    "\n",
    "- 'MFI' money flow index ratio\n",
    "    - n: 14\n",
    "- 'Chaikin'\n",
    "    - None\n",
    "- 'EMA'\n",
    "    - n: [5, 20, 90, 260]\n",
    "- 'KST'\n",
    "    - r: (10, 10, 10, 15)\n",
    "    - n: (10, 15, 20, 30)\n",
    "    \n",
    "- 'TSI'\n",
    "    - r: 25\n",
    "    - s: 13\n",
    "\n",
    "- 'TRIX'\n",
    "    - n: [5, 20, 90, 260]\n",
    "\n",
    "- 'STOK'\n",
    "    - None\n",
    "\n",
    "- 'STO'\n",
    "    - n: [5, 20, 90, 260]\n",
    "\n",
    "- 'ROC'\n",
    "    - n: [5, 20, 90, 260]\n",
    "\n",
    "- 'PPSR' \n",
    "\n",
    "- 'OBV'\n",
    "    - n: [5, 20, 90, 260]\n",
    "\n",
    "- 'MassI'\n",
    "    - None\n",
    "    \n",
    "- 'MOM'\n",
    "    - n: 1 \n",
    "\n",
    "- 'COPP' \n",
    "    - n: 10\n",
    "\n",
    "- ACCDIST'\n",
    "    - n: 1\n",
    "\n",
    "- 'ADX'\n",
    "    - n: 14\n",
    "    - n_ADX: 50\n",
    "- 'ATR'\n",
    "    - n: 14"
   ]
  },
  {
   "cell_type": "markdown",
   "metadata": {},
   "source": [
    "### Potential implementation\n",
    "\n",
    "- differences on any or all of these columns\n",
    "\n",
    "### Missing end data\n",
    "\n",
    "'ULTOSC'\n",
    "\n",
    "'Vortex'\n",
    "\n",
    "'EOM' ease of movement\n",
    "\n",
    "'KELCH'\n",
    "\n",
    "'DONCH'\n",
    "\n",
    "'CCI' Commodity channel index"
   ]
  },
  {
   "cell_type": "code",
   "execution_count": null,
   "metadata": {},
   "outputs": [],
   "source": [
    "cd .. "
   ]
  },
  {
   "cell_type": "code",
   "execution_count": null,
   "metadata": {},
   "outputs": [],
   "source": [
    "#load technicals .py file\n",
    "from lib import ta\n",
    "import pandas as pd\n",
    "import inspect\n",
    "import string\n",
    "import os"
   ]
  },
  {
   "cell_type": "code",
   "execution_count": null,
   "metadata": {},
   "outputs": [],
   "source": [
    "#hacky way to get a dictionary of all the imported technical functions\n",
    "tech_funcs = dict(filter(lambda x: x[0][0] in string.ascii_uppercase, inspect.getmembers(ta)))"
   ]
  },
  {
   "cell_type": "code",
   "execution_count": null,
   "metadata": {},
   "outputs": [],
   "source": [
    "#Each tuple contains the *args for a single run\n",
    "#Best guesses from the internet, \"A critical extraction ..\" paper, and the ta.py code\n",
    "\n",
    "grid = {\"MA\": [(5,), (20,), (90,), (260,)],\n",
    "        \"STDDEV\": [(5,), (20,), (90,), (260,)],\n",
    "        \"RSI\": [(6,), (12,)],\n",
    "        \"MACD\": [(12, 26)],\n",
    "        \"BBANDS\": [(5,), (20,), (90,), (260,)],\n",
    "        \"MFI\": [(14,)],\n",
    "        \"Chaikin\": [()],\n",
    "        \"EMA\": [(5,), (20,), (90,), (260,)],\n",
    "        \"KST\": [(10, 10, 10, 15, 10, 15, 20, 30)],\n",
    "        \"TSI\": [(25, 13)],\n",
    "        \"TRIX\": [(5,), (20,), (90,), (260,)],\n",
    "        \"STOK\": [()],\n",
    "        \"STO\": [(5,), (20,), (90,), (260,)],\n",
    "        \"ROC\": [(5,), (20,), (90,), (260,)],\n",
    "        \"PPSR\": [()],\n",
    "        \"OBV\": [(5,), (20,), (90,), (260,)],\n",
    "        \"MassI\": [()],\n",
    "        \"MOM\": [(1,)],\n",
    "        \"COPP\": [(10,)],\n",
    "        \"ADX\": [(14, 50)],\n",
    "        \"ATR\": [(14,)],\n",
    "        \"FORCE\": [(2,)],\n",
    "        \"ACCDIST\": [(1,)]}\n"
   ]
  },
  {
   "cell_type": "code",
   "execution_count": null,
   "metadata": {},
   "outputs": [],
   "source": [
    "#serially apply every technical function in dictionary to an initial dataframe\n",
    "def extract_technicals(df, tech_funcs, grid):\n",
    "    \n",
    "    output = df\n",
    "    for name, func in tech_funcs.items():\n",
    "        arg_list = grid[name]\n",
    "        for arg_tuple in arg_list:\n",
    "            output = func(output, *arg_tuple)\n",
    "    \n",
    "    return output"
   ]
  },
  {
   "cell_type": "markdown",
   "metadata": {},
   "source": [
    "### Extract technicals from every individual stock CSV"
   ]
  },
  {
   "cell_type": "code",
   "execution_count": null,
   "metadata": {},
   "outputs": [],
   "source": [
    "import os"
   ]
  },
  {
   "cell_type": "code",
   "execution_count": null,
   "metadata": {},
   "outputs": [],
   "source": [
    "ORIGINAL_DIR = \"data/sandp500/individual_stocks_5yr/\"\n",
    "TECHNICALS_DIR = \"data/sandp500/individual_stocks_5yr_TECHNICALS/\"\n",
    "try:\n",
    "    os.stat(TECHNICALS_DIR)\n",
    "except:\n",
    "    os.mkdir(TECHNICALS_DIR)  "
   ]
  },
  {
   "cell_type": "code",
   "execution_count": null,
   "metadata": {
    "scrolled": false
   },
   "outputs": [],
   "source": [
    "#grab list of csv names in the directory\n",
    "individuals = os.listdir(path = \"data/sandp500/individual_stocks_5yr/\")\n",
    "DEBUG = False\n",
    "\n",
    "for csv in individuals:\n",
    "    if csv != '.DS_Store':\n",
    "        csv_path = ORIGINAL_DIR + csv\n",
    "        if DEBUG: print(csv)\n",
    "        df = pd.read_csv(csv_path)\n",
    "        \n",
    "        with open(TECHNICALS_DIR+csv, \"w+\") as file:\n",
    "            try:\n",
    "                df_technicals = extract_technicals(df, tech_funcs, grid)\n",
    "                df_technicals.to_csv(file)\n",
    "            except IndexError:\n",
    "                print(f\"Technical extraction failed on {csv}\")\n"
   ]
  },
  {
   "cell_type": "markdown",
   "metadata": {},
   "source": [
    "### Testing `extract_technicals` on single stock csv"
   ]
  },
  {
   "cell_type": "code",
   "execution_count": null,
   "metadata": {},
   "outputs": [],
   "source": [
    "sp = pd.read_csv(\"data/sandp500/individual_stocks_5yr/A_data.csv\")\n",
    "sp_technicals = extract_technicals(sp, tech_funcs, grid)"
   ]
  },
  {
   "cell_type": "markdown",
   "metadata": {},
   "source": [
    "### Notes\n",
    "\n",
    "- `ACCDIST` appears to be spitting out all zeros.\n",
    "- Barely any variance in `TRIX` and `TRIX_260` is about half missing. Feel like the args for this function are probably wrong."
   ]
  },
  {
   "cell_type": "code",
   "execution_count": null,
   "metadata": {},
   "outputs": [],
   "source": []
  }
 ],
 "metadata": {
  "kernelspec": {
   "display_name": "Python 3",
   "language": "python",
   "name": "python3"
  },
  "language_info": {
   "codemirror_mode": {
    "name": "ipython",
    "version": 3
   },
   "file_extension": ".py",
   "mimetype": "text/x-python",
   "name": "python",
   "nbconvert_exporter": "python",
   "pygments_lexer": "ipython3",
   "version": "3.6.3"
  }
 },
 "nbformat": 4,
 "nbformat_minor": 2
}
