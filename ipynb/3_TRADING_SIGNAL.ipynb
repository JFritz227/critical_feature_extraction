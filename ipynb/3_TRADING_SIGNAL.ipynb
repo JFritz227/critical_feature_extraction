{
 "cells": [
  {
   "cell_type": "code",
   "execution_count": 1,
   "metadata": {},
   "outputs": [
    {
     "name": "stdout",
     "output_type": "stream",
     "text": [
      "/home/jovyan/Capstone/critical_feature_extraction\n"
     ]
    }
   ],
   "source": [
    "cd .."
   ]
  },
  {
   "cell_type": "code",
   "execution_count": 2,
   "metadata": {},
   "outputs": [],
   "source": [
    "import numpy as np\n",
    "import pandas as pd\n",
    "import math\n",
    "import matplotlib.pyplot as plt\n",
    "from lib.plr import PLR, connect_line\n",
    "%matplotlib inline"
   ]
  },
  {
   "cell_type": "markdown",
   "metadata": {},
   "source": [
    "## Transforming PLR into a trading signal ranging between 0 and 1"
   ]
  },
  {
   "cell_type": "code",
   "execution_count": 3,
   "metadata": {},
   "outputs": [],
   "source": [
    "close = pd.read_csv(\"data/sandp500/individual_stocks_5yr/MSFT_data.csv\")[\"Close\"].values"
   ]
  },
  {
   "cell_type": "code",
   "execution_count": 5,
   "metadata": {},
   "outputs": [
    {
     "data": {
      "text/plain": [
       "[<matplotlib.lines.Line2D at 0x7ff879f24dd8>]"
      ]
     },
     "execution_count": 5,
     "metadata": {},
     "output_type": "execute_result"
    },
    {
     "data": {
      "image/png": "[encoded data removed]",
      "text/plain": [
       "<matplotlib.figure.Figure at 0x7ff879f24e48>"
      ]
     },
     "metadata": {},
     "output_type": "display_data"
    }
   ],
   "source": [
    "plt.plot(close)\n",
    "\n",
    "piece, lines, points = PLR(close, 20)\n",
    "\n",
    "piece\n",
    "plt.plot(piece, c= \"red\")"
   ]
  },
  {
   "cell_type": "code",
   "execution_count": 375,
   "metadata": {},
   "outputs": [
    {
     "data": {
      "text/plain": [
       "609"
      ]
     },
     "execution_count": 375,
     "metadata": {},
     "output_type": "execute_result"
    }
   ],
   "source": [
    "np.diff(points)\n",
    "points[2]"
   ]
  },
  {
   "cell_type": "code",
   "execution_count": 376,
   "metadata": {},
   "outputs": [],
   "source": [
    "buy_true = []\n",
    "period = min(np.diff(points[1:]))/2\n",
    "period = math.floor(period)"
   ]
  },
  {
   "cell_type": "code",
   "execution_count": 377,
   "metadata": {},
   "outputs": [
    {
     "data": {
      "text/plain": [
       "[1, 1, -1, 1, -1, 1]"
      ]
     },
     "execution_count": 377,
     "metadata": {},
     "output_type": "execute_result"
    }
   ],
   "source": [
    "for the_points in points[1:]:\n",
    "    if piece[the_points] - piece[the_points + period] > 0:\n",
    "        buy_true.append(-1)\n",
    "    if piece[the_points] - piece[the_points + period] < 0:\n",
    "        buy_true.append(1)\n",
    "        \n",
    "buy_true"
   ]
  },
  {
   "cell_type": "code",
   "execution_count": 378,
   "metadata": {},
   "outputs": [
    {
     "data": {
      "text/plain": [
       "array([217, 392,  24, 234,  54,  20])"
      ]
     },
     "execution_count": 378,
     "metadata": {},
     "output_type": "execute_result"
    }
   ],
   "source": [
    "np.diff(points)"
   ]
  },
  {
   "cell_type": "code",
   "execution_count": 379,
   "metadata": {},
   "outputs": [],
   "source": [
    "halfway_list = []\n",
    "for number_points in range(len(np.diff(points))):\n",
    "    halfway_list.append(((np.diff(points))[number_points]/2) + points[number_points])"
   ]
  },
  {
   "cell_type": "code",
   "execution_count": 380,
   "metadata": {},
   "outputs": [
    {
     "data": {
      "text/plain": [
       "[108.5, 413.0, 621.0, 750.0, 894.0, 931.0]"
      ]
     },
     "execution_count": 380,
     "metadata": {},
     "output_type": "execute_result"
    }
   ],
   "source": [
    "halfway_list = []\n",
    "for these_points in range(len(points[1:])):\n",
    "    if these_points != 0:\n",
    "        halfway_list.append(((np.diff(points))[these_points]/2) + points[1:][these_points-1])\n",
    "                            \n",
    "    if these_points == 0:\n",
    "        halfway_list.append((np.diff(points))[these_points]/2)\n",
    "                            \n",
    "halfway_list"
   ]
  },
  {
   "cell_type": "code",
   "execution_count": 381,
   "metadata": {},
   "outputs": [],
   "source": [
    "def up_down_trend(arr, epsilon):\n",
    "    pieces, lines, points = PLR(arr, epsilon)\n",
    "    points.append(len(arr) - 1)\n",
    "    diffs = np.diff(points)\n",
    "    trend_labels = []\n",
    "    for point, diff in zip(points[1:], diffs):\n",
    "        up = [arr[point] - arr[point - 5] > 0]\n",
    "        trend_labels.append(up * diff)\n",
    "    \n",
    "    return trend_labels\n",
    "\n",
    "\n",
    "def trading_signal(arr, epsilon):\n",
    "    \n",
    "    labels = up_down_trend(arr, epsilon)\n",
    "    \n",
    "    #for trend_list in labels:\n",
    "        "
   ]
  },
  {
   "cell_type": "code",
   "execution_count": 382,
   "metadata": {},
   "outputs": [],
   "source": [
    "lists = up_down_trend(close, 20)"
   ]
  },
  {
   "cell_type": "code",
   "execution_count": 383,
   "metadata": {},
   "outputs": [
    {
     "data": {
      "text/plain": [
       "True"
      ]
     },
     "execution_count": 383,
     "metadata": {},
     "output_type": "execute_result"
    }
   ],
   "source": [
    "connect_line(close, (0, len(close) - 1))(1) - connect_line(close, (0, len(close) - 1))(0) > 0"
   ]
  },
  {
   "cell_type": "code",
   "execution_count": 384,
   "metadata": {},
   "outputs": [
    {
     "data": {
      "text/plain": [
       "[<matplotlib.lines.Line2D at 0x7f309895bd68>]"
      ]
     },
     "execution_count": 384,
     "metadata": {},
     "output_type": "execute_result"
    },
    {
     "data": {
      "image/png": "[encoded data removed]",
      "text/plain": [
       "<matplotlib.figure.Figure at 0x7f3098a7ed30>"
      ]
     },
     "metadata": {},
     "output_type": "display_data"
    }
   ],
   "source": [
    "plt.plot(close)"
   ]
  },
  {
   "cell_type": "code",
   "execution_count": 385,
   "metadata": {},
   "outputs": [],
   "source": [
    "close_list = []\n",
    "x_list = []\n",
    "for list_number in range(len(lists)):\n",
    "    x_axis = points[1:]\n",
    "    x_list.append(x_axis)\n",
    "    close_list.append(close[x_axis])"
   ]
  },
  {
   "cell_type": "code",
   "execution_count": 386,
   "metadata": {},
   "outputs": [
    {
     "data": {
      "text/plain": [
       "[<matplotlib.lines.Line2D at 0x7f30988fda90>]"
      ]
     },
     "execution_count": 386,
     "metadata": {},
     "output_type": "execute_result"
    },
    {
     "data": {
      "image/png": "[encoded data removed]",
      "text/plain": [
       "<matplotlib.figure.Figure at 0x7f3098a095f8>"
      ]
     },
     "metadata": {},
     "output_type": "display_data"
    }
   ],
   "source": [
    "plt.plot(close)\n",
    "plt.scatter(x_list, close_list, cmap=buy_true, color = ['r', 'g'], s = 70)\n",
    "plt.plot(piece, c= \"black\")"
   ]
  },
  {
   "cell_type": "code",
   "execution_count": 387,
   "metadata": {},
   "outputs": [
    {
     "data": {
      "text/plain": [
       "[217, 609, 633, 867, 921, 941]"
      ]
     },
     "execution_count": 387,
     "metadata": {},
     "output_type": "execute_result"
    }
   ],
   "source": [
    "x_list[0]"
   ]
  },
  {
   "cell_type": "code",
   "execution_count": 388,
   "metadata": {},
   "outputs": [],
   "source": [
    "technicals = pd.read_csv(\"data/sandp500/individual_stocks_5yr_TECHNICALS/DIS_data.csv\")"
   ]
  },
  {
   "cell_type": "code",
   "execution_count": 389,
   "metadata": {},
   "outputs": [],
   "source": [
    "for x_days in range(len(x_list[0])):\n",
    "    for days in technicals['Unnamed: 0']:\n",
    "        if x_list[0][x_days] == days:\n",
    "            technicals.loc[technicals['Unnamed: 0'] == x_list[0][x_days], 'target'] = buy_true[x_days]"
   ]
  },
  {
   "cell_type": "code",
   "execution_count": 390,
   "metadata": {},
   "outputs": [],
   "source": [
    "technicals.loc[technicals['target'].isnull(), 'target'] = 0"
   ]
  },
  {
   "cell_type": "code",
   "execution_count": 391,
   "metadata": {},
   "outputs": [
    {
     "data": {
      "text/html": [
       "<div>\n",
       "<table border=\"1\" class=\"dataframe\">\n",
       "  <thead>\n",
       "    <tr style=\"text-align: right;\">\n",
       "      <th></th>\n",
       "      <th>-1.0</th>\n",
       "      <th>0.0</th>\n",
       "      <th>1.0</th>\n",
       "    </tr>\n",
       "  </thead>\n",
       "  <tbody>\n",
       "    <tr>\n",
       "      <th>0</th>\n",
       "      <td>0</td>\n",
       "      <td>1</td>\n",
       "      <td>0</td>\n",
       "    </tr>\n",
       "    <tr>\n",
       "      <th>1</th>\n",
       "      <td>0</td>\n",
       "      <td>1</td>\n",
       "      <td>0</td>\n",
       "    </tr>\n",
       "    <tr>\n",
       "      <th>2</th>\n",
       "      <td>0</td>\n",
       "      <td>1</td>\n",
       "      <td>0</td>\n",
       "    </tr>\n",
       "    <tr>\n",
       "      <th>3</th>\n",
       "      <td>0</td>\n",
       "      <td>1</td>\n",
       "      <td>0</td>\n",
       "    </tr>\n",
       "    <tr>\n",
       "      <th>4</th>\n",
       "      <td>0</td>\n",
       "      <td>1</td>\n",
       "      <td>0</td>\n",
       "    </tr>\n",
       "    <tr>\n",
       "      <th>5</th>\n",
       "      <td>0</td>\n",
       "      <td>1</td>\n",
       "      <td>0</td>\n",
       "    </tr>\n",
       "    <tr>\n",
       "      <th>6</th>\n",
       "      <td>0</td>\n",
       "      <td>1</td>\n",
       "      <td>0</td>\n",
       "    </tr>\n",
       "    <tr>\n",
       "      <th>7</th>\n",
       "      <td>0</td>\n",
       "      <td>1</td>\n",
       "      <td>0</td>\n",
       "    </tr>\n",
       "    <tr>\n",
       "      <th>8</th>\n",
       "      <td>0</td>\n",
       "      <td>1</td>\n",
       "      <td>0</td>\n",
       "    </tr>\n",
       "    <tr>\n",
       "      <th>9</th>\n",
       "      <td>0</td>\n",
       "      <td>1</td>\n",
       "      <td>0</td>\n",
       "    </tr>\n",
       "    <tr>\n",
       "      <th>10</th>\n",
       "      <td>0</td>\n",
       "      <td>1</td>\n",
       "      <td>0</td>\n",
       "    </tr>\n",
       "    <tr>\n",
       "      <th>11</th>\n",
       "      <td>0</td>\n",
       "      <td>1</td>\n",
       "      <td>0</td>\n",
       "    </tr>\n",
       "    <tr>\n",
       "      <th>12</th>\n",
       "      <td>0</td>\n",
       "      <td>1</td>\n",
       "      <td>0</td>\n",
       "    </tr>\n",
       "    <tr>\n",
       "      <th>13</th>\n",
       "      <td>0</td>\n",
       "      <td>1</td>\n",
       "      <td>0</td>\n",
       "    </tr>\n",
       "    <tr>\n",
       "      <th>14</th>\n",
       "      <td>0</td>\n",
       "      <td>1</td>\n",
       "      <td>0</td>\n",
       "    </tr>\n",
       "    <tr>\n",
       "      <th>15</th>\n",
       "      <td>0</td>\n",
       "      <td>1</td>\n",
       "      <td>0</td>\n",
       "    </tr>\n",
       "    <tr>\n",
       "      <th>16</th>\n",
       "      <td>0</td>\n",
       "      <td>1</td>\n",
       "      <td>0</td>\n",
       "    </tr>\n",
       "    <tr>\n",
       "      <th>17</th>\n",
       "      <td>0</td>\n",
       "      <td>1</td>\n",
       "      <td>0</td>\n",
       "    </tr>\n",
       "    <tr>\n",
       "      <th>18</th>\n",
       "      <td>0</td>\n",
       "      <td>1</td>\n",
       "      <td>0</td>\n",
       "    </tr>\n",
       "    <tr>\n",
       "      <th>19</th>\n",
       "      <td>0</td>\n",
       "      <td>1</td>\n",
       "      <td>0</td>\n",
       "    </tr>\n",
       "    <tr>\n",
       "      <th>20</th>\n",
       "      <td>0</td>\n",
       "      <td>1</td>\n",
       "      <td>0</td>\n",
       "    </tr>\n",
       "    <tr>\n",
       "      <th>21</th>\n",
       "      <td>0</td>\n",
       "      <td>1</td>\n",
       "      <td>0</td>\n",
       "    </tr>\n",
       "    <tr>\n",
       "      <th>22</th>\n",
       "      <td>0</td>\n",
       "      <td>1</td>\n",
       "      <td>0</td>\n",
       "    </tr>\n",
       "    <tr>\n",
       "      <th>23</th>\n",
       "      <td>0</td>\n",
       "      <td>1</td>\n",
       "      <td>0</td>\n",
       "    </tr>\n",
       "    <tr>\n",
       "      <th>24</th>\n",
       "      <td>0</td>\n",
       "      <td>1</td>\n",
       "      <td>0</td>\n",
       "    </tr>\n",
       "    <tr>\n",
       "      <th>25</th>\n",
       "      <td>0</td>\n",
       "      <td>1</td>\n",
       "      <td>0</td>\n",
       "    </tr>\n",
       "    <tr>\n",
       "      <th>26</th>\n",
       "      <td>0</td>\n",
       "      <td>1</td>\n",
       "      <td>0</td>\n",
       "    </tr>\n",
       "    <tr>\n",
       "      <th>27</th>\n",
       "      <td>0</td>\n",
       "      <td>1</td>\n",
       "      <td>0</td>\n",
       "    </tr>\n",
       "    <tr>\n",
       "      <th>28</th>\n",
       "      <td>0</td>\n",
       "      <td>1</td>\n",
       "      <td>0</td>\n",
       "    </tr>\n",
       "    <tr>\n",
       "      <th>29</th>\n",
       "      <td>0</td>\n",
       "      <td>1</td>\n",
       "      <td>0</td>\n",
       "    </tr>\n",
       "    <tr>\n",
       "      <th>...</th>\n",
       "      <td>...</td>\n",
       "      <td>...</td>\n",
       "      <td>...</td>\n",
       "    </tr>\n",
       "    <tr>\n",
       "      <th>1228</th>\n",
       "      <td>0</td>\n",
       "      <td>1</td>\n",
       "      <td>0</td>\n",
       "    </tr>\n",
       "    <tr>\n",
       "      <th>1229</th>\n",
       "      <td>0</td>\n",
       "      <td>1</td>\n",
       "      <td>0</td>\n",
       "    </tr>\n",
       "    <tr>\n",
       "      <th>1230</th>\n",
       "      <td>0</td>\n",
       "      <td>1</td>\n",
       "      <td>0</td>\n",
       "    </tr>\n",
       "    <tr>\n",
       "      <th>1231</th>\n",
       "      <td>0</td>\n",
       "      <td>1</td>\n",
       "      <td>0</td>\n",
       "    </tr>\n",
       "    <tr>\n",
       "      <th>1232</th>\n",
       "      <td>0</td>\n",
       "      <td>1</td>\n",
       "      <td>0</td>\n",
       "    </tr>\n",
       "    <tr>\n",
       "      <th>1233</th>\n",
       "      <td>0</td>\n",
       "      <td>1</td>\n",
       "      <td>0</td>\n",
       "    </tr>\n",
       "    <tr>\n",
       "      <th>1234</th>\n",
       "      <td>0</td>\n",
       "      <td>1</td>\n",
       "      <td>0</td>\n",
       "    </tr>\n",
       "    <tr>\n",
       "      <th>1235</th>\n",
       "      <td>0</td>\n",
       "      <td>1</td>\n",
       "      <td>0</td>\n",
       "    </tr>\n",
       "    <tr>\n",
       "      <th>1236</th>\n",
       "      <td>0</td>\n",
       "      <td>1</td>\n",
       "      <td>0</td>\n",
       "    </tr>\n",
       "    <tr>\n",
       "      <th>1237</th>\n",
       "      <td>0</td>\n",
       "      <td>1</td>\n",
       "      <td>0</td>\n",
       "    </tr>\n",
       "    <tr>\n",
       "      <th>1238</th>\n",
       "      <td>0</td>\n",
       "      <td>1</td>\n",
       "      <td>0</td>\n",
       "    </tr>\n",
       "    <tr>\n",
       "      <th>1239</th>\n",
       "      <td>0</td>\n",
       "      <td>1</td>\n",
       "      <td>0</td>\n",
       "    </tr>\n",
       "    <tr>\n",
       "      <th>1240</th>\n",
       "      <td>0</td>\n",
       "      <td>1</td>\n",
       "      <td>0</td>\n",
       "    </tr>\n",
       "    <tr>\n",
       "      <th>1241</th>\n",
       "      <td>0</td>\n",
       "      <td>1</td>\n",
       "      <td>0</td>\n",
       "    </tr>\n",
       "    <tr>\n",
       "      <th>1242</th>\n",
       "      <td>0</td>\n",
       "      <td>1</td>\n",
       "      <td>0</td>\n",
       "    </tr>\n",
       "    <tr>\n",
       "      <th>1243</th>\n",
       "      <td>0</td>\n",
       "      <td>1</td>\n",
       "      <td>0</td>\n",
       "    </tr>\n",
       "    <tr>\n",
       "      <th>1244</th>\n",
       "      <td>0</td>\n",
       "      <td>1</td>\n",
       "      <td>0</td>\n",
       "    </tr>\n",
       "    <tr>\n",
       "      <th>1245</th>\n",
       "      <td>0</td>\n",
       "      <td>1</td>\n",
       "      <td>0</td>\n",
       "    </tr>\n",
       "    <tr>\n",
       "      <th>1246</th>\n",
       "      <td>0</td>\n",
       "      <td>1</td>\n",
       "      <td>0</td>\n",
       "    </tr>\n",
       "    <tr>\n",
       "      <th>1247</th>\n",
       "      <td>0</td>\n",
       "      <td>1</td>\n",
       "      <td>0</td>\n",
       "    </tr>\n",
       "    <tr>\n",
       "      <th>1248</th>\n",
       "      <td>0</td>\n",
       "      <td>1</td>\n",
       "      <td>0</td>\n",
       "    </tr>\n",
       "    <tr>\n",
       "      <th>1249</th>\n",
       "      <td>0</td>\n",
       "      <td>1</td>\n",
       "      <td>0</td>\n",
       "    </tr>\n",
       "    <tr>\n",
       "      <th>1250</th>\n",
       "      <td>0</td>\n",
       "      <td>1</td>\n",
       "      <td>0</td>\n",
       "    </tr>\n",
       "    <tr>\n",
       "      <th>1251</th>\n",
       "      <td>0</td>\n",
       "      <td>1</td>\n",
       "      <td>0</td>\n",
       "    </tr>\n",
       "    <tr>\n",
       "      <th>1252</th>\n",
       "      <td>0</td>\n",
       "      <td>1</td>\n",
       "      <td>0</td>\n",
       "    </tr>\n",
       "    <tr>\n",
       "      <th>1253</th>\n",
       "      <td>0</td>\n",
       "      <td>1</td>\n",
       "      <td>0</td>\n",
       "    </tr>\n",
       "    <tr>\n",
       "      <th>1254</th>\n",
       "      <td>0</td>\n",
       "      <td>1</td>\n",
       "      <td>0</td>\n",
       "    </tr>\n",
       "    <tr>\n",
       "      <th>1255</th>\n",
       "      <td>0</td>\n",
       "      <td>1</td>\n",
       "      <td>0</td>\n",
       "    </tr>\n",
       "    <tr>\n",
       "      <th>1256</th>\n",
       "      <td>0</td>\n",
       "      <td>1</td>\n",
       "      <td>0</td>\n",
       "    </tr>\n",
       "    <tr>\n",
       "      <th>1257</th>\n",
       "      <td>0</td>\n",
       "      <td>1</td>\n",
       "      <td>0</td>\n",
       "    </tr>\n",
       "  </tbody>\n",
       "</table>\n",
       "<p>1258 rows × 3 columns</p>\n",
       "</div>"
      ],
      "text/plain": [
       "      -1.0   0.0   1.0\n",
       "0        0     1     0\n",
       "1        0     1     0\n",
       "2        0     1     0\n",
       "3        0     1     0\n",
       "4        0     1     0\n",
       "5        0     1     0\n",
       "6        0     1     0\n",
       "7        0     1     0\n",
       "8        0     1     0\n",
       "9        0     1     0\n",
       "10       0     1     0\n",
       "11       0     1     0\n",
       "12       0     1     0\n",
       "13       0     1     0\n",
       "14       0     1     0\n",
       "15       0     1     0\n",
       "16       0     1     0\n",
       "17       0     1     0\n",
       "18       0     1     0\n",
       "19       0     1     0\n",
       "20       0     1     0\n",
       "21       0     1     0\n",
       "22       0     1     0\n",
       "23       0     1     0\n",
       "24       0     1     0\n",
       "25       0     1     0\n",
       "26       0     1     0\n",
       "27       0     1     0\n",
       "28       0     1     0\n",
       "29       0     1     0\n",
       "...    ...   ...   ...\n",
       "1228     0     1     0\n",
       "1229     0     1     0\n",
       "1230     0     1     0\n",
       "1231     0     1     0\n",
       "1232     0     1     0\n",
       "1233     0     1     0\n",
       "1234     0     1     0\n",
       "1235     0     1     0\n",
       "1236     0     1     0\n",
       "1237     0     1     0\n",
       "1238     0     1     0\n",
       "1239     0     1     0\n",
       "1240     0     1     0\n",
       "1241     0     1     0\n",
       "1242     0     1     0\n",
       "1243     0     1     0\n",
       "1244     0     1     0\n",
       "1245     0     1     0\n",
       "1246     0     1     0\n",
       "1247     0     1     0\n",
       "1248     0     1     0\n",
       "1249     0     1     0\n",
       "1250     0     1     0\n",
       "1251     0     1     0\n",
       "1252     0     1     0\n",
       "1253     0     1     0\n",
       "1254     0     1     0\n",
       "1255     0     1     0\n",
       "1256     0     1     0\n",
       "1257     0     1     0\n",
       "\n",
       "[1258 rows x 3 columns]"
      ]
     },
     "execution_count": 391,
     "metadata": {},
     "output_type": "execute_result"
    }
   ],
   "source": [
    "dummies = pd.get_dummies(technicals['target'])\n",
    "dummies"
   ]
  },
  {
   "cell_type": "code",
   "execution_count": 392,
   "metadata": {},
   "outputs": [],
   "source": [
    "dummies = dummies.drop(0.0, 1)"
   ]
  },
  {
   "cell_type": "code",
   "execution_count": 393,
   "metadata": {},
   "outputs": [],
   "source": [
    "technicals['buy'] = dummies[1.0]\n",
    "technicals['sell'] = dummies[-1.0]"
   ]
  },
  {
   "cell_type": "code",
   "execution_count": 394,
   "metadata": {},
   "outputs": [],
   "source": [
    "technicals = technicals.drop('target', 1)"
   ]
  },
  {
   "cell_type": "code",
   "execution_count": 395,
   "metadata": {},
   "outputs": [
    {
     "data": {
      "text/html": [
       "<div>\n",
       "<table border=\"1\" class=\"dataframe\">\n",
       "  <thead>\n",
       "    <tr style=\"text-align: right;\">\n",
       "      <th></th>\n",
       "      <th>Unnamed: 0</th>\n",
       "      <th>Date</th>\n",
       "      <th>Open</th>\n",
       "      <th>High</th>\n",
       "      <th>Low</th>\n",
       "      <th>Close</th>\n",
       "      <th>Volume</th>\n",
       "      <th>Name</th>\n",
       "      <th>Acc/Dist_ROC_1</th>\n",
       "      <th>ADX_14_50</th>\n",
       "      <th>...</th>\n",
       "      <th>STD_5</th>\n",
       "      <th>STD_20</th>\n",
       "      <th>SO%d_5</th>\n",
       "      <th>SO%d_20</th>\n",
       "      <th>SO%k</th>\n",
       "      <th>Trix_5</th>\n",
       "      <th>Trix_20</th>\n",
       "      <th>TSI_25_13</th>\n",
       "      <th>buy</th>\n",
       "      <th>sell</th>\n",
       "    </tr>\n",
       "  </thead>\n",
       "  <tbody>\n",
       "    <tr>\n",
       "      <th>217</th>\n",
       "      <td>217</td>\n",
       "      <td>2013-06-26</td>\n",
       "      <td>62.95</td>\n",
       "      <td>63.46</td>\n",
       "      <td>62.75</td>\n",
       "      <td>63.21</td>\n",
       "      <td>5722061</td>\n",
       "      <td>DIS</td>\n",
       "      <td>0.0</td>\n",
       "      <td>0.308855</td>\n",
       "      <td>...</td>\n",
       "      <td>0.446912</td>\n",
       "      <td>0.890528</td>\n",
       "      <td>0.444050</td>\n",
       "      <td>0.464993</td>\n",
       "      <td>0.647887</td>\n",
       "      <td>-0.002361</td>\n",
       "      <td>0.000440</td>\n",
       "      <td>-0.072942</td>\n",
       "      <td>1</td>\n",
       "      <td>0</td>\n",
       "    </tr>\n",
       "    <tr>\n",
       "      <th>609</th>\n",
       "      <td>609</td>\n",
       "      <td>2015-01-15</td>\n",
       "      <td>94.61</td>\n",
       "      <td>94.96</td>\n",
       "      <td>94.04</td>\n",
       "      <td>94.35</td>\n",
       "      <td>5662230</td>\n",
       "      <td>DIS</td>\n",
       "      <td>-0.0</td>\n",
       "      <td>0.278230</td>\n",
       "      <td>...</td>\n",
       "      <td>0.398598</td>\n",
       "      <td>1.134183</td>\n",
       "      <td>0.429711</td>\n",
       "      <td>0.445160</td>\n",
       "      <td>0.336957</td>\n",
       "      <td>0.001159</td>\n",
       "      <td>0.001056</td>\n",
       "      <td>0.130469</td>\n",
       "      <td>1</td>\n",
       "      <td>0</td>\n",
       "    </tr>\n",
       "    <tr>\n",
       "      <th>867</th>\n",
       "      <td>867</td>\n",
       "      <td>2016-01-26</td>\n",
       "      <td>95.49</td>\n",
       "      <td>96.43</td>\n",
       "      <td>95.09</td>\n",
       "      <td>96.27</td>\n",
       "      <td>6895218</td>\n",
       "      <td>DIS</td>\n",
       "      <td>0.0</td>\n",
       "      <td>0.471996</td>\n",
       "      <td>...</td>\n",
       "      <td>1.754916</td>\n",
       "      <td>4.535450</td>\n",
       "      <td>0.583869</td>\n",
       "      <td>0.483748</td>\n",
       "      <td>0.880597</td>\n",
       "      <td>-0.004212</td>\n",
       "      <td>-0.003881</td>\n",
       "      <td>-0.358322</td>\n",
       "      <td>1</td>\n",
       "      <td>0</td>\n",
       "    </tr>\n",
       "    <tr>\n",
       "      <th>941</th>\n",
       "      <td>941</td>\n",
       "      <td>2016-05-11</td>\n",
       "      <td>101.46</td>\n",
       "      <td>102.50</td>\n",
       "      <td>100.62</td>\n",
       "      <td>102.29</td>\n",
       "      <td>27011855</td>\n",
       "      <td>DIS</td>\n",
       "      <td>0.0</td>\n",
       "      <td>0.354152</td>\n",
       "      <td>...</td>\n",
       "      <td>1.604540</td>\n",
       "      <td>2.067473</td>\n",
       "      <td>0.740544</td>\n",
       "      <td>0.636747</td>\n",
       "      <td>0.888298</td>\n",
       "      <td>0.001182</td>\n",
       "      <td>0.001893</td>\n",
       "      <td>0.249739</td>\n",
       "      <td>1</td>\n",
       "      <td>0</td>\n",
       "    </tr>\n",
       "  </tbody>\n",
       "</table>\n",
       "<p>4 rows × 52 columns</p>\n",
       "</div>"
      ],
      "text/plain": [
       "     Unnamed: 0        Date    Open    High     Low   Close    Volume Name  \\\n",
       "217         217  2013-06-26   62.95   63.46   62.75   63.21   5722061  DIS   \n",
       "609         609  2015-01-15   94.61   94.96   94.04   94.35   5662230  DIS   \n",
       "867         867  2016-01-26   95.49   96.43   95.09   96.27   6895218  DIS   \n",
       "941         941  2016-05-11  101.46  102.50  100.62  102.29  27011855  DIS   \n",
       "\n",
       "     Acc/Dist_ROC_1  ADX_14_50  ...      STD_5    STD_20    SO%d_5   SO%d_20  \\\n",
       "217             0.0   0.308855  ...   0.446912  0.890528  0.444050  0.464993   \n",
       "609            -0.0   0.278230  ...   0.398598  1.134183  0.429711  0.445160   \n",
       "867             0.0   0.471996  ...   1.754916  4.535450  0.583869  0.483748   \n",
       "941             0.0   0.354152  ...   1.604540  2.067473  0.740544  0.636747   \n",
       "\n",
       "         SO%k    Trix_5   Trix_20  TSI_25_13  buy  sell  \n",
       "217  0.647887 -0.002361  0.000440  -0.072942    1     0  \n",
       "609  0.336957  0.001159  0.001056   0.130469    1     0  \n",
       "867  0.880597 -0.004212 -0.003881  -0.358322    1     0  \n",
       "941  0.888298  0.001182  0.001893   0.249739    1     0  \n",
       "\n",
       "[4 rows x 52 columns]"
      ]
     },
     "execution_count": 395,
     "metadata": {},
     "output_type": "execute_result"
    }
   ],
   "source": [
    "technicals[technicals['buy'] == 1]"
   ]
  },
  {
   "cell_type": "code",
   "execution_count": null,
   "metadata": {},
   "outputs": [],
   "source": []
  }
 ],
 "metadata": {
  "kernelspec": {
   "display_name": "Python 3",
   "language": "python",
   "name": "python3"
  },
  "language_info": {
   "codemirror_mode": {
    "name": "ipython",
    "version": 3
   },
   "file_extension": ".py",
   "mimetype": "text/x-python",
   "name": "python",
   "nbconvert_exporter": "python",
   "pygments_lexer": "ipython3",
   "version": "3.6.2"
  }
 },
 "nbformat": 4,
 "nbformat_minor": 2
}
