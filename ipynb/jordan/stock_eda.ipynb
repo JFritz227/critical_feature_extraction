{
 "cells": [
  {
   "cell_type": "markdown",
   "metadata": {},
   "source": [
    "# EDA"
   ]
  },
  {
   "cell_type": "markdown",
   "metadata": {},
   "source": [
    "## Basic Statistics"
   ]
  },
  {
   "cell_type": "code",
   "execution_count": 2,
   "metadata": {},
   "outputs": [
    {
     "name": "stdout",
     "output_type": "stream",
     "text": [
      "/home/jovyan/Desktop/DSI/Capstone\n"
     ]
    }
   ],
   "source": [
    "cd .."
   ]
  },
  {
   "cell_type": "code",
   "execution_count": 3,
   "metadata": {},
   "outputs": [],
   "source": [
    "%matplotlib inline\n",
    "%run __init__.py"
   ]
  },
  {
   "cell_type": "code",
   "execution_count": 4,
   "metadata": {},
   "outputs": [],
   "source": [
    "import warnings\n",
    "warnings.filterwarnings(\"ignore\")"
   ]
  },
  {
   "cell_type": "code",
   "execution_count": 182,
   "metadata": {},
   "outputs": [],
   "source": [
    "dow_jones_df = pd.read_pickle('data/dow_jones_df.p')"
   ]
  },
  {
   "cell_type": "code",
   "execution_count": 70,
   "metadata": {},
   "outputs": [
    {
     "data": {
      "text/html": [
       "<div>\n",
       "<table border=\"1\" class=\"dataframe\">\n",
       "  <thead>\n",
       "    <tr style=\"text-align: right;\">\n",
       "      <th></th>\n",
       "      <th>ticker</th>\n",
       "      <th>date</th>\n",
       "      <th>open</th>\n",
       "      <th>high</th>\n",
       "      <th>low</th>\n",
       "      <th>close</th>\n",
       "      <th>volume</th>\n",
       "      <th>ex-dividend</th>\n",
       "      <th>split_ratio</th>\n",
       "      <th>adj_open</th>\n",
       "      <th>adj_high</th>\n",
       "      <th>adj_low</th>\n",
       "      <th>adj_close</th>\n",
       "      <th>adj_volume</th>\n",
       "    </tr>\n",
       "  </thead>\n",
       "  <tbody>\n",
       "    <tr>\n",
       "      <th>0</th>\n",
       "      <td>MMM</td>\n",
       "      <td>2007-11-20</td>\n",
       "      <td>81.99</td>\n",
       "      <td>82.68</td>\n",
       "      <td>81.02</td>\n",
       "      <td>82.11</td>\n",
       "      <td>4429500.0</td>\n",
       "      <td>0.48</td>\n",
       "      <td>1.0</td>\n",
       "      <td>63.472174</td>\n",
       "      <td>64.006334</td>\n",
       "      <td>62.721253</td>\n",
       "      <td>63.565072</td>\n",
       "      <td>4429500.0</td>\n",
       "    </tr>\n",
       "    <tr>\n",
       "      <th>1</th>\n",
       "      <td>MMM</td>\n",
       "      <td>2007-11-21</td>\n",
       "      <td>81.60</td>\n",
       "      <td>82.50</td>\n",
       "      <td>81.24</td>\n",
       "      <td>81.24</td>\n",
       "      <td>4703300.0</td>\n",
       "      <td>0.00</td>\n",
       "      <td>1.0</td>\n",
       "      <td>63.170258</td>\n",
       "      <td>63.866988</td>\n",
       "      <td>62.891565</td>\n",
       "      <td>62.891565</td>\n",
       "      <td>4703300.0</td>\n",
       "    </tr>\n",
       "    <tr>\n",
       "      <th>2</th>\n",
       "      <td>MMM</td>\n",
       "      <td>2007-11-23</td>\n",
       "      <td>81.83</td>\n",
       "      <td>82.75</td>\n",
       "      <td>81.06</td>\n",
       "      <td>82.75</td>\n",
       "      <td>1726100.0</td>\n",
       "      <td>0.00</td>\n",
       "      <td>1.0</td>\n",
       "      <td>63.348311</td>\n",
       "      <td>64.060525</td>\n",
       "      <td>62.752219</td>\n",
       "      <td>64.060525</td>\n",
       "      <td>1726100.0</td>\n",
       "    </tr>\n",
       "    <tr>\n",
       "      <th>3</th>\n",
       "      <td>MMM</td>\n",
       "      <td>2007-11-26</td>\n",
       "      <td>82.60</td>\n",
       "      <td>82.95</td>\n",
       "      <td>80.89</td>\n",
       "      <td>81.00</td>\n",
       "      <td>4067600.0</td>\n",
       "      <td>0.00</td>\n",
       "      <td>1.0</td>\n",
       "      <td>63.944403</td>\n",
       "      <td>64.215354</td>\n",
       "      <td>62.620614</td>\n",
       "      <td>62.705770</td>\n",
       "      <td>4067600.0</td>\n",
       "    </tr>\n",
       "    <tr>\n",
       "      <th>4</th>\n",
       "      <td>MMM</td>\n",
       "      <td>2007-11-27</td>\n",
       "      <td>81.58</td>\n",
       "      <td>82.39</td>\n",
       "      <td>80.97</td>\n",
       "      <td>82.12</td>\n",
       "      <td>4319100.0</td>\n",
       "      <td>0.00</td>\n",
       "      <td>1.0</td>\n",
       "      <td>63.154775</td>\n",
       "      <td>63.781832</td>\n",
       "      <td>62.682546</td>\n",
       "      <td>63.572813</td>\n",
       "      <td>4319100.0</td>\n",
       "    </tr>\n",
       "    <tr>\n",
       "      <th>5</th>\n",
       "      <td>MMM</td>\n",
       "      <td>2007-11-28</td>\n",
       "      <td>82.57</td>\n",
       "      <td>83.80</td>\n",
       "      <td>82.04</td>\n",
       "      <td>83.41</td>\n",
       "      <td>4377400.0</td>\n",
       "      <td>0.00</td>\n",
       "      <td>1.0</td>\n",
       "      <td>63.921178</td>\n",
       "      <td>64.873377</td>\n",
       "      <td>63.510881</td>\n",
       "      <td>64.571461</td>\n",
       "      <td>4377400.0</td>\n",
       "    </tr>\n",
       "    <tr>\n",
       "      <th>6</th>\n",
       "      <td>MMM</td>\n",
       "      <td>2007-11-29</td>\n",
       "      <td>83.08</td>\n",
       "      <td>84.10</td>\n",
       "      <td>82.97</td>\n",
       "      <td>83.61</td>\n",
       "      <td>3226400.0</td>\n",
       "      <td>0.00</td>\n",
       "      <td>1.0</td>\n",
       "      <td>64.315993</td>\n",
       "      <td>65.105621</td>\n",
       "      <td>64.230837</td>\n",
       "      <td>64.726290</td>\n",
       "      <td>3226400.0</td>\n",
       "    </tr>\n",
       "    <tr>\n",
       "      <th>7</th>\n",
       "      <td>MMM</td>\n",
       "      <td>2007-11-30</td>\n",
       "      <td>84.44</td>\n",
       "      <td>84.94</td>\n",
       "      <td>82.38</td>\n",
       "      <td>83.26</td>\n",
       "      <td>5738700.0</td>\n",
       "      <td>0.00</td>\n",
       "      <td>1.0</td>\n",
       "      <td>65.368830</td>\n",
       "      <td>65.755903</td>\n",
       "      <td>63.774091</td>\n",
       "      <td>64.455339</td>\n",
       "      <td>5738700.0</td>\n",
       "    </tr>\n",
       "    <tr>\n",
       "      <th>8</th>\n",
       "      <td>MMM</td>\n",
       "      <td>2007-12-03</td>\n",
       "      <td>83.43</td>\n",
       "      <td>83.98</td>\n",
       "      <td>81.94</td>\n",
       "      <td>82.21</td>\n",
       "      <td>4272100.0</td>\n",
       "      <td>0.00</td>\n",
       "      <td>1.0</td>\n",
       "      <td>64.586943</td>\n",
       "      <td>65.012723</td>\n",
       "      <td>63.433467</td>\n",
       "      <td>63.642486</td>\n",
       "      <td>4272100.0</td>\n",
       "    </tr>\n",
       "    <tr>\n",
       "      <th>9</th>\n",
       "      <td>MMM</td>\n",
       "      <td>2007-12-04</td>\n",
       "      <td>81.91</td>\n",
       "      <td>82.94</td>\n",
       "      <td>81.60</td>\n",
       "      <td>82.09</td>\n",
       "      <td>3189000.0</td>\n",
       "      <td>0.00</td>\n",
       "      <td>1.0</td>\n",
       "      <td>63.410243</td>\n",
       "      <td>64.207612</td>\n",
       "      <td>63.170258</td>\n",
       "      <td>63.549589</td>\n",
       "      <td>3189000.0</td>\n",
       "    </tr>\n",
       "    <tr>\n",
       "      <th>10</th>\n",
       "      <td>MMM</td>\n",
       "      <td>2007-12-05</td>\n",
       "      <td>82.69</td>\n",
       "      <td>83.99</td>\n",
       "      <td>82.51</td>\n",
       "      <td>83.76</td>\n",
       "      <td>3255800.0</td>\n",
       "      <td>0.00</td>\n",
       "      <td>1.0</td>\n",
       "      <td>64.014076</td>\n",
       "      <td>65.020465</td>\n",
       "      <td>63.874730</td>\n",
       "      <td>64.842411</td>\n",
       "      <td>3255800.0</td>\n",
       "    </tr>\n",
       "    <tr>\n",
       "      <th>11</th>\n",
       "      <td>MMM</td>\n",
       "      <td>2007-12-06</td>\n",
       "      <td>83.73</td>\n",
       "      <td>85.00</td>\n",
       "      <td>83.56</td>\n",
       "      <td>84.82</td>\n",
       "      <td>2937500.0</td>\n",
       "      <td>0.00</td>\n",
       "      <td>1.0</td>\n",
       "      <td>64.819187</td>\n",
       "      <td>65.802352</td>\n",
       "      <td>64.687582</td>\n",
       "      <td>65.663005</td>\n",
       "      <td>2937500.0</td>\n",
       "    </tr>\n",
       "    <tr>\n",
       "      <th>12</th>\n",
       "      <td>MMM</td>\n",
       "      <td>2007-12-07</td>\n",
       "      <td>85.00</td>\n",
       "      <td>86.53</td>\n",
       "      <td>84.06</td>\n",
       "      <td>86.19</td>\n",
       "      <td>3709400.0</td>\n",
       "      <td>0.00</td>\n",
       "      <td>1.0</td>\n",
       "      <td>65.802352</td>\n",
       "      <td>66.986794</td>\n",
       "      <td>65.074655</td>\n",
       "      <td>66.723585</td>\n",
       "      <td>3709400.0</td>\n",
       "    </tr>\n",
       "    <tr>\n",
       "      <th>13</th>\n",
       "      <td>MMM</td>\n",
       "      <td>2007-12-10</td>\n",
       "      <td>86.66</td>\n",
       "      <td>87.15</td>\n",
       "      <td>86.26</td>\n",
       "      <td>86.74</td>\n",
       "      <td>3291900.0</td>\n",
       "      <td>0.00</td>\n",
       "      <td>1.0</td>\n",
       "      <td>67.087433</td>\n",
       "      <td>67.466764</td>\n",
       "      <td>66.777775</td>\n",
       "      <td>67.149364</td>\n",
       "      <td>3291900.0</td>\n",
       "    </tr>\n",
       "    <tr>\n",
       "      <th>14</th>\n",
       "      <td>MMM</td>\n",
       "      <td>2007-12-11</td>\n",
       "      <td>87.05</td>\n",
       "      <td>87.05</td>\n",
       "      <td>84.65</td>\n",
       "      <td>84.65</td>\n",
       "      <td>4310900.0</td>\n",
       "      <td>0.00</td>\n",
       "      <td>1.0</td>\n",
       "      <td>67.389349</td>\n",
       "      <td>67.389349</td>\n",
       "      <td>65.531401</td>\n",
       "      <td>65.531401</td>\n",
       "      <td>4310900.0</td>\n",
       "    </tr>\n",
       "    <tr>\n",
       "      <th>15</th>\n",
       "      <td>MMM</td>\n",
       "      <td>2007-12-12</td>\n",
       "      <td>88.10</td>\n",
       "      <td>88.70</td>\n",
       "      <td>85.97</td>\n",
       "      <td>86.66</td>\n",
       "      <td>7253900.0</td>\n",
       "      <td>0.00</td>\n",
       "      <td>1.0</td>\n",
       "      <td>68.202202</td>\n",
       "      <td>68.666689</td>\n",
       "      <td>66.553273</td>\n",
       "      <td>67.087433</td>\n",
       "      <td>7253900.0</td>\n",
       "    </tr>\n",
       "    <tr>\n",
       "      <th>16</th>\n",
       "      <td>MMM</td>\n",
       "      <td>2007-12-13</td>\n",
       "      <td>86.41</td>\n",
       "      <td>87.06</td>\n",
       "      <td>85.34</td>\n",
       "      <td>86.92</td>\n",
       "      <td>4294000.0</td>\n",
       "      <td>0.00</td>\n",
       "      <td>1.0</td>\n",
       "      <td>66.893896</td>\n",
       "      <td>67.397091</td>\n",
       "      <td>66.065561</td>\n",
       "      <td>67.288711</td>\n",
       "      <td>4294000.0</td>\n",
       "    </tr>\n",
       "    <tr>\n",
       "      <th>17</th>\n",
       "      <td>MMM</td>\n",
       "      <td>2007-12-14</td>\n",
       "      <td>86.12</td>\n",
       "      <td>87.58</td>\n",
       "      <td>85.88</td>\n",
       "      <td>85.93</td>\n",
       "      <td>3373200.0</td>\n",
       "      <td>0.00</td>\n",
       "      <td>1.0</td>\n",
       "      <td>66.669394</td>\n",
       "      <td>67.799647</td>\n",
       "      <td>66.483599</td>\n",
       "      <td>66.522307</td>\n",
       "      <td>3373200.0</td>\n",
       "    </tr>\n",
       "    <tr>\n",
       "      <th>18</th>\n",
       "      <td>MMM</td>\n",
       "      <td>2007-12-17</td>\n",
       "      <td>85.88</td>\n",
       "      <td>86.70</td>\n",
       "      <td>85.39</td>\n",
       "      <td>85.78</td>\n",
       "      <td>3731500.0</td>\n",
       "      <td>0.00</td>\n",
       "      <td>1.0</td>\n",
       "      <td>66.483599</td>\n",
       "      <td>67.118399</td>\n",
       "      <td>66.104268</td>\n",
       "      <td>66.406185</td>\n",
       "      <td>3731500.0</td>\n",
       "    </tr>\n",
       "    <tr>\n",
       "      <th>19</th>\n",
       "      <td>MMM</td>\n",
       "      <td>2007-12-18</td>\n",
       "      <td>86.21</td>\n",
       "      <td>86.31</td>\n",
       "      <td>85.03</td>\n",
       "      <td>85.85</td>\n",
       "      <td>3080500.0</td>\n",
       "      <td>0.00</td>\n",
       "      <td>1.0</td>\n",
       "      <td>66.739067</td>\n",
       "      <td>66.816482</td>\n",
       "      <td>65.825576</td>\n",
       "      <td>66.460375</td>\n",
       "      <td>3080500.0</td>\n",
       "    </tr>\n",
       "  </tbody>\n",
       "</table>\n",
       "</div>"
      ],
      "text/plain": [
       "   ticker       date   open   high    low  close     volume  ex-dividend  \\\n",
       "0     MMM 2007-11-20  81.99  82.68  81.02  82.11  4429500.0         0.48   \n",
       "1     MMM 2007-11-21  81.60  82.50  81.24  81.24  4703300.0         0.00   \n",
       "2     MMM 2007-11-23  81.83  82.75  81.06  82.75  1726100.0         0.00   \n",
       "3     MMM 2007-11-26  82.60  82.95  80.89  81.00  4067600.0         0.00   \n",
       "4     MMM 2007-11-27  81.58  82.39  80.97  82.12  4319100.0         0.00   \n",
       "5     MMM 2007-11-28  82.57  83.80  82.04  83.41  4377400.0         0.00   \n",
       "6     MMM 2007-11-29  83.08  84.10  82.97  83.61  3226400.0         0.00   \n",
       "7     MMM 2007-11-30  84.44  84.94  82.38  83.26  5738700.0         0.00   \n",
       "8     MMM 2007-12-03  83.43  83.98  81.94  82.21  4272100.0         0.00   \n",
       "9     MMM 2007-12-04  81.91  82.94  81.60  82.09  3189000.0         0.00   \n",
       "10    MMM 2007-12-05  82.69  83.99  82.51  83.76  3255800.0         0.00   \n",
       "11    MMM 2007-12-06  83.73  85.00  83.56  84.82  2937500.0         0.00   \n",
       "12    MMM 2007-12-07  85.00  86.53  84.06  86.19  3709400.0         0.00   \n",
       "13    MMM 2007-12-10  86.66  87.15  86.26  86.74  3291900.0         0.00   \n",
       "14    MMM 2007-12-11  87.05  87.05  84.65  84.65  4310900.0         0.00   \n",
       "15    MMM 2007-12-12  88.10  88.70  85.97  86.66  7253900.0         0.00   \n",
       "16    MMM 2007-12-13  86.41  87.06  85.34  86.92  4294000.0         0.00   \n",
       "17    MMM 2007-12-14  86.12  87.58  85.88  85.93  3373200.0         0.00   \n",
       "18    MMM 2007-12-17  85.88  86.70  85.39  85.78  3731500.0         0.00   \n",
       "19    MMM 2007-12-18  86.21  86.31  85.03  85.85  3080500.0         0.00   \n",
       "\n",
       "    split_ratio   adj_open   adj_high    adj_low  adj_close  adj_volume  \n",
       "0           1.0  63.472174  64.006334  62.721253  63.565072   4429500.0  \n",
       "1           1.0  63.170258  63.866988  62.891565  62.891565   4703300.0  \n",
       "2           1.0  63.348311  64.060525  62.752219  64.060525   1726100.0  \n",
       "3           1.0  63.944403  64.215354  62.620614  62.705770   4067600.0  \n",
       "4           1.0  63.154775  63.781832  62.682546  63.572813   4319100.0  \n",
       "5           1.0  63.921178  64.873377  63.510881  64.571461   4377400.0  \n",
       "6           1.0  64.315993  65.105621  64.230837  64.726290   3226400.0  \n",
       "7           1.0  65.368830  65.755903  63.774091  64.455339   5738700.0  \n",
       "8           1.0  64.586943  65.012723  63.433467  63.642486   4272100.0  \n",
       "9           1.0  63.410243  64.207612  63.170258  63.549589   3189000.0  \n",
       "10          1.0  64.014076  65.020465  63.874730  64.842411   3255800.0  \n",
       "11          1.0  64.819187  65.802352  64.687582  65.663005   2937500.0  \n",
       "12          1.0  65.802352  66.986794  65.074655  66.723585   3709400.0  \n",
       "13          1.0  67.087433  67.466764  66.777775  67.149364   3291900.0  \n",
       "14          1.0  67.389349  67.389349  65.531401  65.531401   4310900.0  \n",
       "15          1.0  68.202202  68.666689  66.553273  67.087433   7253900.0  \n",
       "16          1.0  66.893896  67.397091  66.065561  67.288711   4294000.0  \n",
       "17          1.0  66.669394  67.799647  66.483599  66.522307   3373200.0  \n",
       "18          1.0  66.483599  67.118399  66.104268  66.406185   3731500.0  \n",
       "19          1.0  66.739067  66.816482  65.825576  66.460375   3080500.0  "
      ]
     },
     "execution_count": 70,
     "metadata": {},
     "output_type": "execute_result"
    }
   ],
   "source": [
    "dow_jones_df.head(20)"
   ]
  },
  {
   "cell_type": "code",
   "execution_count": 71,
   "metadata": {},
   "outputs": [
    {
     "data": {
      "text/html": [
       "<div>\n",
       "<table border=\"1\" class=\"dataframe\">\n",
       "  <thead>\n",
       "    <tr style=\"text-align: right;\">\n",
       "      <th></th>\n",
       "      <th>open</th>\n",
       "      <th>high</th>\n",
       "      <th>low</th>\n",
       "      <th>close</th>\n",
       "      <th>volume</th>\n",
       "      <th>ex-dividend</th>\n",
       "      <th>split_ratio</th>\n",
       "      <th>adj_open</th>\n",
       "      <th>adj_high</th>\n",
       "      <th>adj_low</th>\n",
       "      <th>adj_close</th>\n",
       "      <th>adj_volume</th>\n",
       "    </tr>\n",
       "  </thead>\n",
       "  <tbody>\n",
       "    <tr>\n",
       "      <th>count</th>\n",
       "      <td>70292.000000</td>\n",
       "      <td>70292.000000</td>\n",
       "      <td>70292.000000</td>\n",
       "      <td>70292.000000</td>\n",
       "      <td>7.029200e+04</td>\n",
       "      <td>70292.000000</td>\n",
       "      <td>70292.000000</td>\n",
       "      <td>70292.000000</td>\n",
       "      <td>70292.000000</td>\n",
       "      <td>70292.000000</td>\n",
       "      <td>70292.000000</td>\n",
       "      <td>7.029200e+04</td>\n",
       "    </tr>\n",
       "    <tr>\n",
       "      <th>mean</th>\n",
       "      <td>73.153567</td>\n",
       "      <td>73.795016</td>\n",
       "      <td>72.511266</td>\n",
       "      <td>73.175289</td>\n",
       "      <td>1.635273e+07</td>\n",
       "      <td>0.007139</td>\n",
       "      <td>1.000085</td>\n",
       "      <td>61.755211</td>\n",
       "      <td>62.282269</td>\n",
       "      <td>61.227952</td>\n",
       "      <td>61.773734</td>\n",
       "      <td>1.719009e+07</td>\n",
       "    </tr>\n",
       "    <tr>\n",
       "      <th>std</th>\n",
       "      <td>44.206208</td>\n",
       "      <td>44.505525</td>\n",
       "      <td>43.918607</td>\n",
       "      <td>44.222027</td>\n",
       "      <td>2.184967e+07</td>\n",
       "      <td>0.066512</td>\n",
       "      <td>0.013066</td>\n",
       "      <td>41.962489</td>\n",
       "      <td>42.245121</td>\n",
       "      <td>41.692153</td>\n",
       "      <td>41.978959</td>\n",
       "      <td>2.216151e+07</td>\n",
       "    </tr>\n",
       "    <tr>\n",
       "      <th>min</th>\n",
       "      <td>6.750000</td>\n",
       "      <td>7.170000</td>\n",
       "      <td>5.727900</td>\n",
       "      <td>6.660000</td>\n",
       "      <td>5.073170e+05</td>\n",
       "      <td>0.000000</td>\n",
       "      <td>1.000000</td>\n",
       "      <td>5.137174</td>\n",
       "      <td>5.456821</td>\n",
       "      <td>4.359292</td>\n",
       "      <td>5.068679</td>\n",
       "      <td>5.073170e+05</td>\n",
       "    </tr>\n",
       "    <tr>\n",
       "      <th>25%</th>\n",
       "      <td>38.450000</td>\n",
       "      <td>38.847500</td>\n",
       "      <td>38.000000</td>\n",
       "      <td>38.427500</td>\n",
       "      <td>4.731880e+06</td>\n",
       "      <td>0.000000</td>\n",
       "      <td>1.000000</td>\n",
       "      <td>28.888711</td>\n",
       "      <td>29.211127</td>\n",
       "      <td>28.574755</td>\n",
       "      <td>28.896403</td>\n",
       "      <td>5.271601e+06</td>\n",
       "    </tr>\n",
       "    <tr>\n",
       "      <th>50%</th>\n",
       "      <td>64.860000</td>\n",
       "      <td>65.400000</td>\n",
       "      <td>64.320000</td>\n",
       "      <td>64.880000</td>\n",
       "      <td>8.838790e+06</td>\n",
       "      <td>0.000000</td>\n",
       "      <td>1.000000</td>\n",
       "      <td>51.487544</td>\n",
       "      <td>51.892094</td>\n",
       "      <td>50.993336</td>\n",
       "      <td>51.462022</td>\n",
       "      <td>9.712853e+06</td>\n",
       "    </tr>\n",
       "    <tr>\n",
       "      <th>75%</th>\n",
       "      <td>93.932500</td>\n",
       "      <td>94.660000</td>\n",
       "      <td>93.162500</td>\n",
       "      <td>93.920000</td>\n",
       "      <td>1.842049e+07</td>\n",
       "      <td>0.000000</td>\n",
       "      <td>1.000000</td>\n",
       "      <td>81.967951</td>\n",
       "      <td>82.650452</td>\n",
       "      <td>81.392412</td>\n",
       "      <td>82.031946</td>\n",
       "      <td>1.992430e+07</td>\n",
       "    </tr>\n",
       "    <tr>\n",
       "      <th>max</th>\n",
       "      <td>278.650000</td>\n",
       "      <td>278.650000</td>\n",
       "      <td>274.440000</td>\n",
       "      <td>278.290000</td>\n",
       "      <td>7.529044e+08</td>\n",
       "      <td>3.200000</td>\n",
       "      <td>4.000000</td>\n",
       "      <td>265.010000</td>\n",
       "      <td>266.750000</td>\n",
       "      <td>263.340000</td>\n",
       "      <td>264.699194</td>\n",
       "      <td>7.529044e+08</td>\n",
       "    </tr>\n",
       "  </tbody>\n",
       "</table>\n",
       "</div>"
      ],
      "text/plain": [
       "               open          high           low         close        volume  \\\n",
       "count  70292.000000  70292.000000  70292.000000  70292.000000  7.029200e+04   \n",
       "mean      73.153567     73.795016     72.511266     73.175289  1.635273e+07   \n",
       "std       44.206208     44.505525     43.918607     44.222027  2.184967e+07   \n",
       "min        6.750000      7.170000      5.727900      6.660000  5.073170e+05   \n",
       "25%       38.450000     38.847500     38.000000     38.427500  4.731880e+06   \n",
       "50%       64.860000     65.400000     64.320000     64.880000  8.838790e+06   \n",
       "75%       93.932500     94.660000     93.162500     93.920000  1.842049e+07   \n",
       "max      278.650000    278.650000    274.440000    278.290000  7.529044e+08   \n",
       "\n",
       "        ex-dividend   split_ratio      adj_open      adj_high       adj_low  \\\n",
       "count  70292.000000  70292.000000  70292.000000  70292.000000  70292.000000   \n",
       "mean       0.007139      1.000085     61.755211     62.282269     61.227952   \n",
       "std        0.066512      0.013066     41.962489     42.245121     41.692153   \n",
       "min        0.000000      1.000000      5.137174      5.456821      4.359292   \n",
       "25%        0.000000      1.000000     28.888711     29.211127     28.574755   \n",
       "50%        0.000000      1.000000     51.487544     51.892094     50.993336   \n",
       "75%        0.000000      1.000000     81.967951     82.650452     81.392412   \n",
       "max        3.200000      4.000000    265.010000    266.750000    263.340000   \n",
       "\n",
       "          adj_close    adj_volume  \n",
       "count  70292.000000  7.029200e+04  \n",
       "mean      61.773734  1.719009e+07  \n",
       "std       41.978959  2.216151e+07  \n",
       "min        5.068679  5.073170e+05  \n",
       "25%       28.896403  5.271601e+06  \n",
       "50%       51.462022  9.712853e+06  \n",
       "75%       82.031946  1.992430e+07  \n",
       "max      264.699194  7.529044e+08  "
      ]
     },
     "execution_count": 71,
     "metadata": {},
     "output_type": "execute_result"
    }
   ],
   "source": [
    "dow_jones_df.describe()"
   ]
  },
  {
   "cell_type": "code",
   "execution_count": 72,
   "metadata": {},
   "outputs": [
    {
     "name": "stdout",
     "output_type": "stream",
     "text": [
      "<class 'pandas.core.frame.DataFrame'>\n",
      "RangeIndex: 70292 entries, 0 to 70291\n",
      "Data columns (total 14 columns):\n",
      "ticker         70292 non-null object\n",
      "date           70292 non-null datetime64[ns]\n",
      "open           70292 non-null float64\n",
      "high           70292 non-null float64\n",
      "low            70292 non-null float64\n",
      "close          70292 non-null float64\n",
      "volume         70292 non-null float64\n",
      "ex-dividend    70292 non-null float64\n",
      "split_ratio    70292 non-null float64\n",
      "adj_open       70292 non-null float64\n",
      "adj_high       70292 non-null float64\n",
      "adj_low        70292 non-null float64\n",
      "adj_close      70292 non-null float64\n",
      "adj_volume     70292 non-null float64\n",
      "dtypes: datetime64[ns](1), float64(12), object(1)\n",
      "memory usage: 7.5+ MB\n"
     ]
    }
   ],
   "source": [
    "dow_jones_df.info()"
   ]
  },
  {
   "cell_type": "markdown",
   "metadata": {},
   "source": [
    "## Separate Date Columns into Day, Month, Year Columns"
   ]
  },
  {
   "cell_type": "code",
   "execution_count": 73,
   "metadata": {},
   "outputs": [],
   "source": [
    "def separate_date_column(df):\n",
    "    for dates in df['date']:\n",
    "        df.loc[df['date'] == dates, 'year'] = dates.year\n",
    "        df.loc[df['date'] == dates, 'month'] = dates.month\n",
    "        df.loc[df['date'] == dates, 'day_of_month'] = dates.day\n",
    "        df.loc[df['date'] == dates, 'day_of_week'] = dates.dayofweek"
   ]
  },
  {
   "cell_type": "markdown",
   "metadata": {},
   "source": [
    "## EDA using only Disney stock"
   ]
  },
  {
   "cell_type": "markdown",
   "metadata": {},
   "source": [
    "### Create Disney Table"
   ]
  },
  {
   "cell_type": "code",
   "execution_count": 74,
   "metadata": {},
   "outputs": [
    {
     "data": {
      "text/plain": [
       "array(['MMM', 'BA', 'CAT', 'CVX', 'CSCO', 'KO', 'DIS', 'DD', 'XOM', 'GE',\n",
       "       'GS', 'HD', 'IBM', 'INTC', 'JNJ', 'JPM', 'MCD', 'MRK', 'MSFT',\n",
       "       'NKE', 'PFE', 'PG', 'TRV', 'UTX', 'UNH', 'VZ', 'V', 'WMT'], dtype=object)"
      ]
     },
     "execution_count": 74,
     "metadata": {},
     "output_type": "execute_result"
    }
   ],
   "source": [
    "dow_jones_df.ticker.unique()"
   ]
  },
  {
   "cell_type": "code",
   "execution_count": 75,
   "metadata": {},
   "outputs": [],
   "source": [
    "disney_df = dow_jones_df[dow_jones_df['ticker'] == 'DIS']\n",
    "disney_df.to_pickle('data/disney_df.p')"
   ]
  },
  {
   "cell_type": "markdown",
   "metadata": {},
   "source": [
    "### Feature Engineering"
   ]
  },
  {
   "cell_type": "code",
   "execution_count": 76,
   "metadata": {},
   "outputs": [
    {
     "data": {
      "text/html": [
       "<div>\n",
       "<table border=\"1\" class=\"dataframe\">\n",
       "  <thead>\n",
       "    <tr style=\"text-align: right;\">\n",
       "      <th></th>\n",
       "      <th>ticker</th>\n",
       "      <th>date</th>\n",
       "      <th>open</th>\n",
       "      <th>high</th>\n",
       "      <th>low</th>\n",
       "      <th>close</th>\n",
       "      <th>volume</th>\n",
       "      <th>ex-dividend</th>\n",
       "      <th>split_ratio</th>\n",
       "      <th>adj_open</th>\n",
       "      <th>adj_high</th>\n",
       "      <th>adj_low</th>\n",
       "      <th>adj_close</th>\n",
       "      <th>adj_volume</th>\n",
       "    </tr>\n",
       "  </thead>\n",
       "  <tbody>\n",
       "    <tr>\n",
       "      <th>15104</th>\n",
       "      <td>DIS</td>\n",
       "      <td>2007-11-20</td>\n",
       "      <td>31.47</td>\n",
       "      <td>31.8900</td>\n",
       "      <td>31.0200</td>\n",
       "      <td>31.55</td>\n",
       "      <td>9425700.0</td>\n",
       "      <td>0.0</td>\n",
       "      <td>1.0</td>\n",
       "      <td>27.387327</td>\n",
       "      <td>27.752839</td>\n",
       "      <td>26.995706</td>\n",
       "      <td>27.456948</td>\n",
       "      <td>9425700.0</td>\n",
       "    </tr>\n",
       "    <tr>\n",
       "      <th>15105</th>\n",
       "      <td>DIS</td>\n",
       "      <td>2007-11-21</td>\n",
       "      <td>31.35</td>\n",
       "      <td>31.7000</td>\n",
       "      <td>31.1200</td>\n",
       "      <td>31.50</td>\n",
       "      <td>8661400.0</td>\n",
       "      <td>0.0</td>\n",
       "      <td>1.0</td>\n",
       "      <td>27.282895</td>\n",
       "      <td>27.587488</td>\n",
       "      <td>27.082733</td>\n",
       "      <td>27.413435</td>\n",
       "      <td>8661400.0</td>\n",
       "    </tr>\n",
       "    <tr>\n",
       "      <th>15106</th>\n",
       "      <td>DIS</td>\n",
       "      <td>2007-11-23</td>\n",
       "      <td>31.65</td>\n",
       "      <td>31.8952</td>\n",
       "      <td>31.4878</td>\n",
       "      <td>31.84</td>\n",
       "      <td>3548500.0</td>\n",
       "      <td>0.0</td>\n",
       "      <td>1.0</td>\n",
       "      <td>27.543975</td>\n",
       "      <td>27.757365</td>\n",
       "      <td>27.402817</td>\n",
       "      <td>27.709326</td>\n",
       "      <td>3548500.0</td>\n",
       "    </tr>\n",
       "    <tr>\n",
       "      <th>15107</th>\n",
       "      <td>DIS</td>\n",
       "      <td>2007-11-26</td>\n",
       "      <td>31.91</td>\n",
       "      <td>31.9600</td>\n",
       "      <td>31.2000</td>\n",
       "      <td>31.24</td>\n",
       "      <td>7337600.0</td>\n",
       "      <td>0.0</td>\n",
       "      <td>1.0</td>\n",
       "      <td>27.770244</td>\n",
       "      <td>27.813758</td>\n",
       "      <td>27.152354</td>\n",
       "      <td>27.187165</td>\n",
       "      <td>7337600.0</td>\n",
       "    </tr>\n",
       "    <tr>\n",
       "      <th>15108</th>\n",
       "      <td>DIS</td>\n",
       "      <td>2007-11-27</td>\n",
       "      <td>31.26</td>\n",
       "      <td>31.8200</td>\n",
       "      <td>30.6800</td>\n",
       "      <td>31.72</td>\n",
       "      <td>14270700.0</td>\n",
       "      <td>0.0</td>\n",
       "      <td>1.0</td>\n",
       "      <td>27.204570</td>\n",
       "      <td>27.691920</td>\n",
       "      <td>26.699815</td>\n",
       "      <td>27.604894</td>\n",
       "      <td>14270700.0</td>\n",
       "    </tr>\n",
       "  </tbody>\n",
       "</table>\n",
       "</div>"
      ],
      "text/plain": [
       "      ticker       date   open     high      low  close      volume  \\\n",
       "15104    DIS 2007-11-20  31.47  31.8900  31.0200  31.55   9425700.0   \n",
       "15105    DIS 2007-11-21  31.35  31.7000  31.1200  31.50   8661400.0   \n",
       "15106    DIS 2007-11-23  31.65  31.8952  31.4878  31.84   3548500.0   \n",
       "15107    DIS 2007-11-26  31.91  31.9600  31.2000  31.24   7337600.0   \n",
       "15108    DIS 2007-11-27  31.26  31.8200  30.6800  31.72  14270700.0   \n",
       "\n",
       "       ex-dividend  split_ratio   adj_open   adj_high    adj_low  adj_close  \\\n",
       "15104          0.0          1.0  27.387327  27.752839  26.995706  27.456948   \n",
       "15105          0.0          1.0  27.282895  27.587488  27.082733  27.413435   \n",
       "15106          0.0          1.0  27.543975  27.757365  27.402817  27.709326   \n",
       "15107          0.0          1.0  27.770244  27.813758  27.152354  27.187165   \n",
       "15108          0.0          1.0  27.204570  27.691920  26.699815  27.604894   \n",
       "\n",
       "       adj_volume  \n",
       "15104   9425700.0  \n",
       "15105   8661400.0  \n",
       "15106   3548500.0  \n",
       "15107   7337600.0  \n",
       "15108  14270700.0  "
      ]
     },
     "execution_count": 76,
     "metadata": {},
     "output_type": "execute_result"
    }
   ],
   "source": [
    "%run __indicators__.py\n",
    "disney_df = pd.read_pickle('data/disney_df.p')\n",
    "disney_df.head()"
   ]
  },
  {
   "cell_type": "code",
   "execution_count": 77,
   "metadata": {},
   "outputs": [],
   "source": [
    "disney_df = MA(disney_df, 5)\n",
    "disney_df = MA(disney_df, 21)\n",
    "disney_df = MA(disney_df, 63)\n",
    "disney_df = MA(disney_df, 125)\n",
    "disney_df = MA(disney_df, 250)"
   ]
  },
  {
   "cell_type": "code",
   "execution_count": 78,
   "metadata": {},
   "outputs": [],
   "source": [
    "disney_df = EMA(disney_df, 5)\n",
    "disney_df = EMA(disney_df, 21)\n",
    "disney_df = EMA(disney_df, 63)\n",
    "disney_df = EMA(disney_df, 125)\n",
    "disney_df = EMA(disney_df, 250)"
   ]
  },
  {
   "cell_type": "code",
   "execution_count": 79,
   "metadata": {},
   "outputs": [],
   "source": [
    "disney_df = MOM(disney_df, 5)\n",
    "disney_df = MOM(disney_df, 21)\n",
    "disney_df = MOM(disney_df, 63)\n",
    "disney_df = MOM(disney_df, 125)\n",
    "disney_df = MOM(disney_df, 250)"
   ]
  },
  {
   "cell_type": "code",
   "execution_count": 80,
   "metadata": {},
   "outputs": [],
   "source": [
    "disney_df = ROC(disney_df, 5)\n",
    "disney_df = ROC(disney_df, 21)\n",
    "disney_df = ROC(disney_df, 63)\n",
    "disney_df = ROC(disney_df, 125)\n",
    "disney_df = ROC(disney_df, 250)"
   ]
  },
  {
   "cell_type": "code",
   "execution_count": 81,
   "metadata": {},
   "outputs": [
    {
     "ename": "KeyError",
     "evalue": "1",
     "output_type": "error",
     "traceback": [
      "\u001b[0;31m---------------------------------------------------------------------------\u001b[0m",
      "\u001b[0;31mKeyError\u001b[0m                                  Traceback (most recent call last)",
      "\u001b[0;32m<ipython-input-81-c7a36dd6723d>\u001b[0m in \u001b[0;36m<module>\u001b[0;34m()\u001b[0m\n\u001b[0;32m----> 1\u001b[0;31m \u001b[0mdisney_df\u001b[0m \u001b[0;34m=\u001b[0m \u001b[0mATR\u001b[0m\u001b[0;34m(\u001b[0m\u001b[0mdisney_df\u001b[0m\u001b[0;34m,\u001b[0m \u001b[0;36m5\u001b[0m\u001b[0;34m)\u001b[0m\u001b[0;34m\u001b[0m\u001b[0m\n\u001b[0m\u001b[1;32m      2\u001b[0m \u001b[0;31m# disney_df = ATR(disney_df, 21)\u001b[0m\u001b[0;34m\u001b[0m\u001b[0;34m\u001b[0m\u001b[0m\n\u001b[1;32m      3\u001b[0m \u001b[0;31m# disney_df = ATR(disney_df, 63)\u001b[0m\u001b[0;34m\u001b[0m\u001b[0;34m\u001b[0m\u001b[0m\n\u001b[1;32m      4\u001b[0m \u001b[0;31m# disney_df = ATR(disney_df, 125)\u001b[0m\u001b[0;34m\u001b[0m\u001b[0;34m\u001b[0m\u001b[0m\n\u001b[1;32m      5\u001b[0m \u001b[0;31m# disney_df = ATR(disney_df, 250)\u001b[0m\u001b[0;34m\u001b[0m\u001b[0;34m\u001b[0m\u001b[0m\n",
      "\u001b[0;32m~/Desktop/DSI/Capstone/__indicators__.py\u001b[0m in \u001b[0;36mATR\u001b[0;34m(df, n)\u001b[0m\n\u001b[1;32m     34\u001b[0m     \u001b[0mTR_l\u001b[0m \u001b[0;34m=\u001b[0m \u001b[0;34m[\u001b[0m\u001b[0;36m0\u001b[0m\u001b[0;34m]\u001b[0m\u001b[0;34m\u001b[0m\u001b[0m\n\u001b[1;32m     35\u001b[0m     \u001b[0;32mwhile\u001b[0m \u001b[0mi\u001b[0m \u001b[0;34m<\u001b[0m \u001b[0mdf\u001b[0m\u001b[0;34m.\u001b[0m\u001b[0mindex\u001b[0m\u001b[0;34m[\u001b[0m\u001b[0;34m-\u001b[0m\u001b[0;36m1\u001b[0m\u001b[0;34m]\u001b[0m\u001b[0;34m:\u001b[0m\u001b[0;34m\u001b[0m\u001b[0m\n\u001b[0;32m---> 36\u001b[0;31m         \u001b[0mTR\u001b[0m \u001b[0;34m=\u001b[0m \u001b[0mmax\u001b[0m\u001b[0;34m(\u001b[0m\u001b[0mdf\u001b[0m\u001b[0;34m.\u001b[0m\u001b[0mget_value\u001b[0m\u001b[0;34m(\u001b[0m\u001b[0mi\u001b[0m\u001b[0;34m+\u001b[0m\u001b[0;36m1\u001b[0m\u001b[0;34m,\u001b[0m \u001b[0;34m'high'\u001b[0m\u001b[0;34m)\u001b[0m\u001b[0;34m,\u001b[0m \u001b[0mdf\u001b[0m\u001b[0;34m.\u001b[0m\u001b[0mget_value\u001b[0m\u001b[0;34m(\u001b[0m\u001b[0mi\u001b[0m\u001b[0;34m,\u001b[0m \u001b[0;34m'close'\u001b[0m\u001b[0;34m)\u001b[0m\u001b[0;34m)\u001b[0m \u001b[0;34m-\u001b[0m \u001b[0mmin\u001b[0m\u001b[0;34m(\u001b[0m\u001b[0mdf\u001b[0m\u001b[0;34m.\u001b[0m\u001b[0mget_value\u001b[0m\u001b[0;34m(\u001b[0m\u001b[0mi\u001b[0m\u001b[0;34m+\u001b[0m\u001b[0;36m1\u001b[0m\u001b[0;34m,\u001b[0m \u001b[0;34m'low'\u001b[0m\u001b[0;34m)\u001b[0m\u001b[0;34m,\u001b[0m \u001b[0mdf\u001b[0m\u001b[0;34m.\u001b[0m\u001b[0mget_value\u001b[0m\u001b[0;34m(\u001b[0m\u001b[0mi\u001b[0m\u001b[0;34m,\u001b[0m \u001b[0;34m'close'\u001b[0m\u001b[0;34m)\u001b[0m\u001b[0;34m)\u001b[0m\u001b[0;34m\u001b[0m\u001b[0m\n\u001b[0m\u001b[1;32m     37\u001b[0m         \u001b[0mTR_l\u001b[0m\u001b[0;34m.\u001b[0m\u001b[0mappend\u001b[0m\u001b[0;34m(\u001b[0m\u001b[0mTR\u001b[0m\u001b[0;34m)\u001b[0m\u001b[0;34m\u001b[0m\u001b[0m\n\u001b[1;32m     38\u001b[0m         \u001b[0mi\u001b[0m \u001b[0;34m+=\u001b[0m \u001b[0;36m1\u001b[0m\u001b[0;34m\u001b[0m\u001b[0m\n",
      "\u001b[0;32m/opt/conda/lib/python3.6/site-packages/pandas/core/frame.py\u001b[0m in \u001b[0;36mget_value\u001b[0;34m(self, index, col, takeable)\u001b[0m\n\u001b[1;32m   1898\u001b[0m         \u001b[0mseries\u001b[0m \u001b[0;34m=\u001b[0m \u001b[0mself\u001b[0m\u001b[0;34m.\u001b[0m\u001b[0m_get_item_cache\u001b[0m\u001b[0;34m(\u001b[0m\u001b[0mcol\u001b[0m\u001b[0;34m)\u001b[0m\u001b[0;34m\u001b[0m\u001b[0m\n\u001b[1;32m   1899\u001b[0m         \u001b[0mengine\u001b[0m \u001b[0;34m=\u001b[0m \u001b[0mself\u001b[0m\u001b[0;34m.\u001b[0m\u001b[0mindex\u001b[0m\u001b[0;34m.\u001b[0m\u001b[0m_engine\u001b[0m\u001b[0;34m\u001b[0m\u001b[0m\n\u001b[0;32m-> 1900\u001b[0;31m         \u001b[0;32mreturn\u001b[0m \u001b[0mengine\u001b[0m\u001b[0;34m.\u001b[0m\u001b[0mget_value\u001b[0m\u001b[0;34m(\u001b[0m\u001b[0mseries\u001b[0m\u001b[0;34m.\u001b[0m\u001b[0mget_values\u001b[0m\u001b[0;34m(\u001b[0m\u001b[0;34m)\u001b[0m\u001b[0;34m,\u001b[0m \u001b[0mindex\u001b[0m\u001b[0;34m)\u001b[0m\u001b[0;34m\u001b[0m\u001b[0m\n\u001b[0m\u001b[1;32m   1901\u001b[0m \u001b[0;34m\u001b[0m\u001b[0m\n\u001b[1;32m   1902\u001b[0m     \u001b[0;32mdef\u001b[0m \u001b[0mset_value\u001b[0m\u001b[0;34m(\u001b[0m\u001b[0mself\u001b[0m\u001b[0;34m,\u001b[0m \u001b[0mindex\u001b[0m\u001b[0;34m,\u001b[0m \u001b[0mcol\u001b[0m\u001b[0;34m,\u001b[0m \u001b[0mvalue\u001b[0m\u001b[0;34m,\u001b[0m \u001b[0mtakeable\u001b[0m\u001b[0;34m=\u001b[0m\u001b[0;32mFalse\u001b[0m\u001b[0;34m)\u001b[0m\u001b[0;34m:\u001b[0m\u001b[0;34m\u001b[0m\u001b[0m\n",
      "\u001b[0;32mpandas/index.pyx\u001b[0m in \u001b[0;36mpandas.index.IndexEngine.get_value (pandas/index.c:3557)\u001b[0;34m()\u001b[0m\n",
      "\u001b[0;32mpandas/index.pyx\u001b[0m in \u001b[0;36mpandas.index.IndexEngine.get_value (pandas/index.c:3240)\u001b[0;34m()\u001b[0m\n",
      "\u001b[0;32mpandas/index.pyx\u001b[0m in \u001b[0;36mpandas.index.IndexEngine.get_loc (pandas/index.c:4279)\u001b[0;34m()\u001b[0m\n",
      "\u001b[0;32mpandas/src/hashtable_class_helper.pxi\u001b[0m in \u001b[0;36mpandas.hashtable.Int64HashTable.get_item (pandas/hashtable.c:8564)\u001b[0;34m()\u001b[0m\n",
      "\u001b[0;32mpandas/src/hashtable_class_helper.pxi\u001b[0m in \u001b[0;36mpandas.hashtable.Int64HashTable.get_item (pandas/hashtable.c:8508)\u001b[0;34m()\u001b[0m\n",
      "\u001b[0;31mKeyError\u001b[0m: 1"
     ]
    }
   ],
   "source": [
    "disney_df = ATR(disney_df, 5)\n",
    "# disney_df = ATR(disney_df, 21)\n",
    "# disney_df = ATR(disney_df, 63)\n",
    "# disney_df = ATR(disney_df, 125)\n",
    "# disney_df = ATR(disney_df, 250)"
   ]
  },
  {
   "cell_type": "code",
   "execution_count": 43,
   "metadata": {},
   "outputs": [],
   "source": [
    "disney_df = BBANDS(disney_df, 5)\n",
    "disney_df = BBANDS(disney_df, 21)\n",
    "disney_df = BBANDS(disney_df, 63)\n",
    "disney_df = BBANDS(disney_df, 125)\n",
    "disney_df = BBANDS(disney_df, 250)"
   ]
  },
  {
   "cell_type": "code",
   "execution_count": 44,
   "metadata": {},
   "outputs": [],
   "source": [
    "disney_df = PPSR(disney_df)"
   ]
  },
  {
   "cell_type": "code",
   "execution_count": 45,
   "metadata": {},
   "outputs": [],
   "source": [
    "disney_df = STOK(disney_df)"
   ]
  },
  {
   "cell_type": "code",
   "execution_count": 46,
   "metadata": {},
   "outputs": [],
   "source": [
    "disney_df = STO(disney_df, 5)\n",
    "disney_df = STO(disney_df, 21)\n",
    "disney_df = STO(disney_df, 63)\n",
    "disney_df = STO(disney_df, 125)\n",
    "disney_df = STO(disney_df, 250)"
   ]
  },
  {
   "cell_type": "code",
   "execution_count": 47,
   "metadata": {},
   "outputs": [],
   "source": [
    "# disney_df = TRIX(disney_df, 5)\n",
    "# disney_df = TRIX(disney_df, 21)\n",
    "# disney_df = TRIX(disney_df, 63)\n",
    "# disney_df = TRIX(disney_df, 125)\n",
    "# disney_df = TRIX(disney_df, 250)"
   ]
  },
  {
   "cell_type": "code",
   "execution_count": 48,
   "metadata": {},
   "outputs": [],
   "source": [
    "# ADX"
   ]
  },
  {
   "cell_type": "code",
   "execution_count": 49,
   "metadata": {},
   "outputs": [],
   "source": [
    "# MACD"
   ]
  },
  {
   "cell_type": "code",
   "execution_count": 50,
   "metadata": {},
   "outputs": [],
   "source": [
    "disney_df = MassI(disney_df)"
   ]
  },
  {
   "cell_type": "code",
   "execution_count": 51,
   "metadata": {},
   "outputs": [],
   "source": [
    "# disney_df = Vortex(disney_df, 5)\n",
    "# disney_df = Vortex(disney_df, 21)\n",
    "# disney_df = Vortex(disney_df, 63)\n",
    "# disney_df = Vortex(disney_df, 125)\n",
    "# disney_df = Vortex(disney_df, 250)"
   ]
  },
  {
   "cell_type": "code",
   "execution_count": 52,
   "metadata": {},
   "outputs": [],
   "source": [
    "# KST"
   ]
  },
  {
   "cell_type": "code",
   "execution_count": 53,
   "metadata": {},
   "outputs": [],
   "source": [
    "# disney_df = RSI(disney_df, 5)\n",
    "# disney_df = RSI(disney_df, 21)\n",
    "# disney_df = RSI(disney_df, 63)\n",
    "# disney_df = RSI(disney_df, 125)\n",
    "# disney_df = RSI(disney_df, 250)"
   ]
  },
  {
   "cell_type": "code",
   "execution_count": 54,
   "metadata": {},
   "outputs": [],
   "source": [
    "# TSI"
   ]
  },
  {
   "cell_type": "code",
   "execution_count": 55,
   "metadata": {},
   "outputs": [],
   "source": [
    "disney_df = ACCDIST(disney_df, 5)\n",
    "disney_df = ACCDIST(disney_df, 21)\n",
    "disney_df = ACCDIST(disney_df, 63)\n",
    "disney_df = ACCDIST(disney_df, 125)\n",
    "disney_df = ACCDIST(disney_df, 250)"
   ]
  },
  {
   "cell_type": "code",
   "execution_count": 56,
   "metadata": {},
   "outputs": [],
   "source": [
    "disney_df = Chaikin(disney_df)"
   ]
  },
  {
   "cell_type": "code",
   "execution_count": 57,
   "metadata": {},
   "outputs": [],
   "source": [
    "# disney_df = MFI(disney_df, 5)\n",
    "# disney_df = MFI(disney_df, 21)\n",
    "# disney_df = MFI(disney_df, 63)\n",
    "# disney_df = MFI(disney_df, 125)\n",
    "# disney_df = MFI(disney_df, 250)"
   ]
  },
  {
   "cell_type": "code",
   "execution_count": 58,
   "metadata": {},
   "outputs": [],
   "source": [
    "# disney_df = OBV(disney_df, 5)\n",
    "# disney_df = OBV(disney_df, 21)\n",
    "# disney_df = OBV(disney_df, 63)\n",
    "# disney_df = OBV(disney_df, 125)\n",
    "# disney_df = OBV(disney_df, 250)"
   ]
  },
  {
   "cell_type": "code",
   "execution_count": 59,
   "metadata": {},
   "outputs": [],
   "source": [
    "disney_df = FORCE(disney_df, 5)\n",
    "disney_df = FORCE(disney_df, 21)\n",
    "disney_df = FORCE(disney_df, 63)\n",
    "disney_df = FORCE(disney_df, 125)\n",
    "disney_df = FORCE(disney_df, 250)"
   ]
  },
  {
   "cell_type": "code",
   "execution_count": 60,
   "metadata": {},
   "outputs": [],
   "source": [
    "disney_df = EOM(disney_df, 5)\n",
    "disney_df = EOM(disney_df, 21)\n",
    "disney_df = EOM(disney_df, 63)\n",
    "disney_df = EOM(disney_df, 125)\n",
    "disney_df = EOM(disney_df, 250)"
   ]
  },
  {
   "cell_type": "code",
   "execution_count": 61,
   "metadata": {},
   "outputs": [],
   "source": [
    "disney_df = CCI(disney_df, 5)\n",
    "disney_df = CCI(disney_df, 21)\n",
    "disney_df = CCI(disney_df, 63)\n",
    "disney_df = CCI(disney_df, 125)\n",
    "disney_df = CCI(disney_df, 250)"
   ]
  },
  {
   "cell_type": "code",
   "execution_count": 62,
   "metadata": {},
   "outputs": [],
   "source": [
    "disney_df = COPP(disney_df, 5)\n",
    "disney_df = COPP(disney_df, 21)\n",
    "disney_df = COPP(disney_df, 63)\n",
    "disney_df = COPP(disney_df, 125)\n",
    "disney_df = COPP(disney_df, 250)"
   ]
  },
  {
   "cell_type": "code",
   "execution_count": 63,
   "metadata": {},
   "outputs": [],
   "source": [
    "disney_df = KELCH(disney_df, 5)\n",
    "disney_df = KELCH(disney_df, 21)\n",
    "disney_df = KELCH(disney_df, 63)\n",
    "disney_df = KELCH(disney_df, 125)\n",
    "disney_df = KELCH(disney_df, 250)"
   ]
  },
  {
   "cell_type": "code",
   "execution_count": 64,
   "metadata": {},
   "outputs": [],
   "source": [
    "# disney_df = ULTOSC(disney_df)"
   ]
  },
  {
   "cell_type": "code",
   "execution_count": 65,
   "metadata": {},
   "outputs": [],
   "source": [
    "# disney_df = DONCH(disney_df, 5)\n",
    "# disney_df = DONCH(disney_df, 21)\n",
    "# disney_df = DONCH(disney_df, 63)\n",
    "# disney_df = DONCH(disney_df, 125)\n",
    "# disney_df = DONCH(disney_df, 250)"
   ]
  },
  {
   "cell_type": "code",
   "execution_count": 66,
   "metadata": {},
   "outputs": [],
   "source": [
    "disney_df = STDDEV(disney_df, 5)\n",
    "disney_df = STDDEV(disney_df, 21)\n",
    "disney_df = STDDEV(disney_df, 63)\n",
    "disney_df = STDDEV(disney_df, 125)\n",
    "disney_df = STDDEV(disney_df, 250)"
   ]
  },
  {
   "cell_type": "code",
   "execution_count": 67,
   "metadata": {},
   "outputs": [
    {
     "data": {
      "text/plain": [
       "(2518, 104)"
      ]
     },
     "execution_count": 67,
     "metadata": {},
     "output_type": "execute_result"
    }
   ],
   "source": [
    "disney_df.shape"
   ]
  },
  {
   "cell_type": "code",
   "execution_count": 1,
   "metadata": {},
   "outputs": [
    {
     "ename": "NameError",
     "evalue": "name 'disney_df' is not defined",
     "output_type": "error",
     "traceback": [
      "\u001b[0;31m---------------------------------------------------------------------------\u001b[0m",
      "\u001b[0;31mNameError\u001b[0m                                 Traceback (most recent call last)",
      "\u001b[0;32m<ipython-input-1-8e06edaca1ba>\u001b[0m in \u001b[0;36m<module>\u001b[0;34m()\u001b[0m\n\u001b[0;32m----> 1\u001b[0;31m \u001b[0mdisney_df\u001b[0m\u001b[0;34m.\u001b[0m\u001b[0mhead\u001b[0m\u001b[0;34m(\u001b[0m\u001b[0;34m)\u001b[0m\u001b[0;34m\u001b[0m\u001b[0m\n\u001b[0m",
      "\u001b[0;31mNameError\u001b[0m: name 'disney_df' is not defined"
     ]
    }
   ],
   "source": [
    "disney_df.head()"
   ]
  },
  {
   "cell_type": "code",
   "execution_count": null,
   "metadata": {},
   "outputs": [],
   "source": []
  }
 ],
 "metadata": {
  "kernelspec": {
   "display_name": "Python 3",
   "language": "python",
   "name": "python3"
  },
  "language_info": {
   "codemirror_mode": {
    "name": "ipython",
    "version": 3
   },
   "file_extension": ".py",
   "mimetype": "text/x-python",
   "name": "python",
   "nbconvert_exporter": "python",
   "pygments_lexer": "ipython3",
   "version": "3.6.2"
  }
 },
 "nbformat": 4,
 "nbformat_minor": 2
}
